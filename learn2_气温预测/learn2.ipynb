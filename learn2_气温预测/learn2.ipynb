{
 "cells": [
  {
   "cell_type": "markdown",
   "id": "646be3bf",
   "metadata": {},
   "source": [
    "数据集来源：\n",
    "https://gitcode.com/open-source-toolkit/6e5f9\n",
    "\n",
    "代码\n",
    "https://www.cnblogs.com/lushuang55/p/17405918.html"
   ]
  },
  {
   "cell_type": "code",
   "execution_count": 82,
   "id": "f8ea4239",
   "metadata": {},
   "outputs": [],
   "source": [
    "import pandas as pd\n",
    "import numpy as np\n",
    "import matplotlib.pyplot as plt\n",
    "%matplotlib inline\n",
    "\n",
    "from sklearn import preprocessing#导入sklearn的预处理模块\n",
    "\n",
    "import torch\n",
    "import random\n",
    "\n",
    "# 设置随机种子\n",
    "seed = 42\n",
    "torch.manual_seed(seed)  # 设置 PyTorch 的随机种子\n",
    "np.random.seed(seed)     # 设置 NumPy 的随机种子\n",
    "random.seed(seed)        # 设置 Python 内置的随机种子\n",
    "\n"
   ]
  },
  {
   "cell_type": "code",
   "execution_count": 83,
   "id": "9e1b41ef",
   "metadata": {},
   "outputs": [
    {
     "data": {
      "text/plain": [
       "(348, 9)"
      ]
     },
     "execution_count": 83,
     "metadata": {},
     "output_type": "execute_result"
    }
   ],
   "source": [
    "data = pd.read_csv('data/temps.csv')\n",
    "data.head(10)\n",
    "data.shape"
   ]
  },
  {
   "cell_type": "code",
   "execution_count": 84,
   "id": "43640238",
   "metadata": {},
   "outputs": [],
   "source": [
    "# import datetime\n",
    "\n",
    "# years = data['year'].values\n",
    "# months = data['month'].values\n",
    "# days = data['day'].values\n",
    "\n",
    "# # datetime格式\n",
    "# dates = [str(int(year)) + '-' + str(int(month)) + '-' + str(int(day)) for year, month, day in zip(years, months, days)]\n",
    "# dates = [datetime.datetime.strptime(date, '%Y-%m-%d') for date in dates]"
   ]
  },
  {
   "cell_type": "code",
   "execution_count": 85,
   "id": "8388aca8",
   "metadata": {},
   "outputs": [],
   "source": [
    "# 标签\n",
    "labels = np.array(data['actual'])\n",
    "\n",
    "# 在特征中去掉标签\n",
    "features= data.drop('actual', axis = 1)\n",
    "\n",
    "# 独热编码：将week列的字符串转换成数值\n",
    "features = pd.get_dummies(features)\n",
    "\n",
    "# 名字单独保存一下，以备后患\n",
    "feature_list = list(features.columns)\n",
    "\n",
    "# 转换成合适的格式\n",
    "features = np.array(features)"
   ]
  },
  {
   "cell_type": "code",
   "execution_count": 86,
   "id": "e0909fde",
   "metadata": {},
   "outputs": [
    {
     "name": "stdout",
     "output_type": "stream",
     "text": [
      "[ 0.         -1.5678393  -1.65682171 -1.48452388 -1.49443549 -1.3470703\n",
      " -1.98891668  2.44131112 -0.40482045 -0.40961596 -0.40482045 -0.40482045\n",
      " -0.41913682 -0.40482045]\n"
     ]
    }
   ],
   "source": [
    "# 标准化操作：数值浮动范围化小\n",
    "input_features = preprocessing.StandardScaler().fit_transform(features)\n",
    "# labels = preprocessing.StandardScaler().fit_transform(labels.reshape(-1, 1))\n",
    "print(input_features[0])"
   ]
  },
  {
   "cell_type": "code",
   "execution_count": 87,
   "id": "82a1bdfd",
   "metadata": {},
   "outputs": [
    {
     "name": "stdout",
     "output_type": "stream",
     "text": [
      "torch.Size([348, 14]) torch.Size([348])\n",
      "epoch: 0/1000 loss: 3080.19189453125\n",
      "epoch: 100/1000 loss: 623.6213989257812\n",
      "epoch: 200/1000 loss: 373.94891357421875\n",
      "epoch: 300/1000 loss: 307.33331298828125\n",
      "epoch: 400/1000 loss: 271.6849060058594\n",
      "epoch: 500/1000 loss: 247.43043518066406\n",
      "epoch: 600/1000 loss: 229.2248992919922\n",
      "epoch: 700/1000 loss: 214.74313354492188\n",
      "epoch: 800/1000 loss: 202.7823486328125\n",
      "epoch: 900/1000 loss: 192.63267517089844\n"
     ]
    },
    {
     "data": {
      "image/png": "[encoded data removed]",
      "text/plain": [
       "<Figure size 640x480 with 1 Axes>"
      ]
     },
     "metadata": {},
     "output_type": "display_data"
    }
   ],
   "source": [
    "x = torch.tensor(input_features, dtype=torch.float32)  # Changed to float32 to match other tensors\n",
    "y = torch.tensor(labels, dtype=torch.float32)  # Changed to float32 to match other tensors\n",
    "print(x.shape, y.shape)\n",
    "\n",
    "weights = torch.randn((14, 128), dtype=torch.float32, requires_grad=True)  # Changed to float32\n",
    "biases = torch.randn(128, dtype=torch.float32, requires_grad=True)  # Changed to float32\n",
    "weights2 = torch.randn((128, 1), dtype=torch.float32, requires_grad=True)  # Changed to float32\n",
    "biases2 = torch.randn(1, dtype=torch.float32, requires_grad=True)  # Changed to float32\n",
    "\n",
    "learning_rate = 0.001 #学习率\n",
    "losses = []#损失\n",
    "epochs = 1000 #迭代次数\n",
    "\n",
    "for i in range(epochs): #迭代10000次\n",
    "    hidden = x.mm(weights) + biases #矩阵乘法\n",
    "    hidden = torch.relu(hidden) #激活函数\n",
    "    prediction = hidden.mm(weights2) + biases2 #输出层\n",
    "    loss = torch.mean((prediction - y.view(-1, 1)) ** 2) #均方误差损失函数\n",
    "    losses.append(loss.data.numpy()) #记录损失\n",
    "    if i % 100 == 0: #每100次输出\n",
    "        print(f'epoch: {i}/{epochs}', f'loss: {loss.data.numpy()}') #输出损失\n",
    "        loss.backward()\n",
    "        \n",
    "        # 更新参数\n",
    "        weights.data -= learning_rate * weights.grad.data \n",
    "        biases.data -= learning_rate * biases.grad.data\n",
    "        weights2.data -= learning_rate * weights2.grad.data\n",
    "        biases2.data -= learning_rate * biases2.grad.data\n",
    "        \n",
    "        # 梯度清零\n",
    "        weights.grad.data.zero_() \n",
    "        biases.grad.data.zero_()\n",
    "        weights2.grad.data.zero_()\n",
    "        biases2.grad.data.zero_()\n",
    "        \n",
    "# 绘制损失曲线\n",
    "plt.plot(losses)\n",
    "plt.xlabel('Epoch')\n",
    "plt.ylabel('Loss')\n",
    "plt.show()\n",
    "plt.close()"
   ]
  },
  {
   "cell_type": "code",
   "execution_count": 98,
   "id": "50009195",
   "metadata": {},
   "outputs": [
    {
     "name": "stdout",
     "output_type": "stream",
     "text": [
      "Epoch [100/1000], Loss: 1179.5235\n",
      "Epoch [200/1000], Loss: 109.1790\n",
      "Epoch [300/1000], Loss: 86.2659\n",
      "Epoch [400/1000], Loss: 76.2426\n",
      "Epoch [500/1000], Loss: 69.1077\n",
      "Epoch [600/1000], Loss: 63.8777\n",
      "Epoch [700/1000], Loss: 60.2450\n",
      "Epoch [800/1000], Loss: 57.6698\n",
      "Epoch [900/1000], Loss: 55.8441\n",
      "Epoch [1000/1000], Loss: 54.4973\n"
     ]
    }
   ],
   "source": [
    "input_size = input_features.shape[1]#总共样本数量\n",
    "hidden_size = 128#隐藏层神经元个数\n",
    "hidden_size2 = 128#隐藏层神经元个数\n",
    "output_size = 1#输出结果1个\n",
    "batch_size = 64#一次训练所选取的样本数量\n",
    "epochs = 1000#训练次数\n",
    "learning_rate = 0.0001#学习率\n",
    "\n",
    "#定义模型\n",
    "model = torch.nn.Sequential(\n",
    "    torch.nn.Linear(input_size, hidden_size),#线性层\n",
    "    torch.nn.ReLU(),   #激活函数\n",
    "    torch.nn.Linear(hidden_size, hidden_size2),#线性层\n",
    "    torch.nn.ReLU(),   #激活函数\n",
    "    torch.nn.Linear(hidden_size2, output_size),#线性层    \n",
    "    )\n",
    "\n",
    "#定义损失函数和优化器\n",
    "criterion = torch.nn.MSELoss()#均方误差损失函数\n",
    "optimizer = torch.optim.Adam(model.parameters(), lr=learning_rate)#Adam优化器\n",
    "\n",
    "#训练模型\n",
    "for epoch in range(epochs):#训练次数\n",
    "    batch_loss = []\n",
    "    for i in range(0, len(input_features), batch_size):#每次训练所选取的样本数量\n",
    "        X_train = x[i:i+batch_size]#输入特征\n",
    "        y_train = y[i:i+batch_size]#目标值\n",
    "        #前向传播\n",
    "        y_pred = model(X_train)#预测值\n",
    "        # print(y_pred[0])\n",
    "        #计算损失\n",
    "        loss = criterion(y_pred, y_train)#损失值\n",
    "        # print(y_pred[0], y_train[0])\n",
    "        batch_loss.append(loss.item())#损失值\n",
    "        \n",
    "        #反向传播和优化\n",
    "        loss.backward()#反向传播\n",
    "        optimizer.step()#更新参数\n",
    "        optimizer.zero_grad()#梯度清零 # 推荐该操作放在反向传播和更新参数之后\n",
    "        \n",
    "    #打印损失值\n",
    "    if (epoch+1) % 100 == 0:\n",
    "        pass\n",
    "        # print(batch_loss)\n",
    "        # losses.append(np.mean(batch_loss))\n",
    "        print(f'Epoch [{epoch+1}/{epochs}], Loss: {np.mean(batch_loss):.4f}') "
   ]
  }
 ],
 "metadata": {
  "kernelspec": {
   "display_name": "Python 3",
   "language": "python",
   "name": "python3"
  },
  "language_info": {
   "codemirror_mode": {
    "name": "ipython",
    "version": 3
   },
   "file_extension": ".py",
   "mimetype": "text/x-python",
   "name": "python",
   "nbconvert_exporter": "python",
   "pygments_lexer": "ipython3",
   "version": "3.12.4"
  }
 },
 "nbformat": 4,
 "nbformat_minor": 5
}
