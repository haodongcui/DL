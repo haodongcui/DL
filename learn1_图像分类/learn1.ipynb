{
 "cells": [
  {
   "cell_type": "markdown",
   "metadata": {},
   "source": [
    "# 问题汇总\n",
    "- 交叉熵损失函数\n"
   ]
  },
  {
   "cell_type": "code",
   "execution_count": 1,
   "metadata": {},
   "outputs": [],
   "source": [
    "import torch\n",
    "from torchvision import datasets, transforms\n",
    "from torch.utils.data import DataLoader\n",
    "import torch.nn as nn\n",
    "import torch.optim as optim\n",
    "import torch.nn.functional as F\n",
    "\n",
    "import os\n",
    "import numpy as np\n",
    "import matplotlib.pyplot as plt\n",
    "%matplotlib inline"
   ]
  },
  {
   "cell_type": "code",
   "execution_count": 2,
   "metadata": {},
   "outputs": [],
   "source": [
    "# 防止内核崩溃\n",
    "os.environ['KMP_DUPLICATE_LIB_OK']='True'"
   ]
  },
  {
   "cell_type": "code",
   "execution_count": 3,
   "metadata": {},
   "outputs": [
    {
     "name": "stdout",
     "output_type": "stream",
     "text": [
      "GPU是否可用: True\n",
      "GPU数量: 1\n",
      "当前GPU: NVIDIA GeForce RTX 4060 Laptop GPU\n"
     ]
    }
   ],
   "source": [
    "# 检验GPU是否可用\n",
    "print(\"GPU是否可用:\", torch.cuda.is_available())\n",
    "print(\"GPU数量:\", torch.cuda.device_count())\n",
    "if torch.cuda.is_available():\n",
    "    print(\"当前GPU:\", torch.cuda.get_device_name(0))"
   ]
  },
  {
   "cell_type": "code",
   "execution_count": 4,
   "metadata": {},
   "outputs": [
    {
     "name": "stdout",
     "output_type": "stream",
     "text": [
      "训练集大小: 60000\n",
      "测试集大小: 10000\n"
     ]
    }
   ],
   "source": [
    "\n",
    "\n",
    "# 设置数据转换，将Tensor正规化到[-1,1]之间，并添加通道维度\n",
    "transform = transforms.Compose([\n",
    "    transforms.ToTensor(),\n",
    "    transforms.Normalize((0.5,), (0.5,))\n",
    "])\n",
    "\n",
    "# 下载训练集和测试集\n",
    "train_dataset = datasets.MNIST('./data', download=True, train=True, transform=transform)\n",
    "test_dataset = datasets.MNIST('./data', download=True, train=False, transform=transform)\n",
    "\n",
    "# 创建数据加载器\n",
    "train_loader = DataLoader(train_dataset, batch_size=64, shuffle=True)\n",
    "test_loader = DataLoader(test_dataset, batch_size=64, shuffle=False)\n",
    "\n",
    "# 验证数据集大小\n",
    "print(f\"训练集大小: {len(train_dataset)}\")\n",
    "print(f\"测试集大小: {len(test_dataset)}\")"
   ]
  },
  {
   "cell_type": "code",
   "execution_count": 5,
   "metadata": {},
   "outputs": [
    {
     "name": "stdout",
     "output_type": "stream",
     "text": [
      "图片形状: torch.Size([1, 28, 28])\n",
      "标签: 5\n"
     ]
    },
    {
     "data": {
      "image/png": "[encoded data removed]",
      "text/plain": [
       "<Figure size 640x480 with 1 Axes>"
      ]
     },
     "metadata": {},
     "output_type": "display_data"
    }
   ],
   "source": [
    "# 1. 查看单个样本\n",
    "image, label = train_dataset[0]  # 获取第一个样本\n",
    "print(\"图片形状:\", image.shape)   # 应该是 [1, 28, 28]\n",
    "print(\"标签:\", label)            # 0-9之间的数字\n",
    "\n",
    "# 去掉单通道维度，重塑图片形状为28x28\n",
    "img_reshaped = image.squeeze().numpy()\n",
    "\n",
    "# 显示图片\n",
    "plt.figure()\n",
    "plt.imshow(img_reshaped)\n",
    "plt.title(f'Label: {label}')\n",
    "plt.axis('off')\n",
    "plt.show()\n",
    "\n",
    "# 关闭图形以释放内存\n",
    "plt.close()"
   ]
  },
  {
   "cell_type": "code",
   "execution_count": 6,
   "metadata": {},
   "outputs": [
    {
     "name": "stdout",
     "output_type": "stream",
     "text": [
      "torch.Size([60000, 28, 28]) torch.Size([60000])\n",
      "torch.Size([60000, 784])\n"
     ]
    }
   ],
   "source": [
    "# help(train_dataset)\n",
    "# dir(train_dataset)\n",
    "X_train, y_train = train_dataset.data, train_dataset.targets  # 获取训练数据和标签\n",
    "print(X_train.shape, y_train.shape)  # 打印训练数据和标签的形状\n",
    "X_train = X_train.view(X_train.shape[0], -1)  # 将训练数据展平\n",
    "print(X_train.shape)  # 打印展平后的训练数据形状"
   ]
  },
  {
   "cell_type": "code",
   "execution_count": 7,
   "metadata": {},
   "outputs": [
    {
     "name": "stdout",
     "output_type": "stream",
     "text": [
      "tensor(4196.1792)\n"
     ]
    }
   ],
   "source": [
    "# 自定义一个线性模型的例子\n",
    "\n",
    "bs = 64 # batch size\n",
    "xb = X_train[:bs]  # 获取前64个样本\n",
    "yb = y_train[:bs]  # 获取前64个标签\n",
    "weights = torch.randn(28*28, 10) / 28*28  # 初始化权重矩阵，调整为10个输出类别\n",
    "bias = torch.zeros(1)  # 初始化偏置\n",
    "\n",
    "def modle(xb, weights, bias):  # 定义模型函数，输入xb、weights和bias\n",
    "    xb = xb.float()\n",
    "    return xb.mm(weights) + bias  # 定义模型，线性层的前向传播\n",
    "\n",
    "# 定义损失函数为交叉熵损失\n",
    "loss_fn = F.cross_entropy  \n",
    "\n",
    "xb = xb.float()  # 将xb转换为float类型\n",
    "outputs = modle(xb, weights=weights, bias=bias)  # 计算输出\n",
    "print(loss_fn(outputs, yb))  # 计算损失"
   ]
  },
  {
   "cell_type": "code",
   "execution_count": 8,
   "metadata": {},
   "outputs": [],
   "source": [
    "class Mnist_NN(nn.Module):\n",
    "    def __init__(self):\n",
    "        super().__init__() # 调用父类的构造函数\n",
    "        self.layer1 = nn.Linear(28*28, 128)\n",
    "        self.layer2 = nn.Linear(128, 64)\n",
    "        self.layer3 = nn.Linear(64, 10)\n",
    "        self.relu = nn.ReLU()\n",
    "        self.dropout = nn.Dropout(0.2)  # 添加Dropout层，防止过拟合\n",
    "\n",
    "    def forward(self, x):\n",
    "        x = self.layer1(x)\n",
    "        x = self.relu(x)\n",
    "        x = self.layer2(x)\n",
    "        x = self.relu(x)\n",
    "        x = self.dropout(x)\n",
    "        x = self.layer3(x)\n",
    "        return x"
   ]
  },
  {
   "cell_type": "code",
   "execution_count": 9,
   "metadata": {},
   "outputs": [
    {
     "name": "stdout",
     "output_type": "stream",
     "text": [
      "Mnist_NN(\n",
      "  (layer1): Linear(in_features=784, out_features=128, bias=True)\n",
      "  (layer2): Linear(in_features=128, out_features=64, bias=True)\n",
      "  (layer3): Linear(in_features=64, out_features=10, bias=True)\n",
      "  (relu): ReLU()\n",
      "  (dropout): Dropout(p=0.2, inplace=False)\n",
      ")\n"
     ]
    }
   ],
   "source": [
    "model = Mnist_NN()  # 实例化模型\n",
    "print(model)  # 打印模型结构"
   ]
  },
  {
   "cell_type": "code",
   "execution_count": 10,
   "metadata": {},
   "outputs": [
    {
     "name": "stdout",
     "output_type": "stream",
     "text": [
      "layer1.weight :  torch.Size([128, 784])\n",
      "layer1.bias :  torch.Size([128])\n",
      "layer2.weight :  torch.Size([64, 128])\n",
      "layer2.bias :  torch.Size([64])\n",
      "layer3.weight :  torch.Size([10, 64])\n",
      "layer3.bias :  torch.Size([10])\n"
     ]
    }
   ],
   "source": [
    "for name, param in model.named_parameters():\n",
    "    print(name,': ', param.shape)  # 打印模型参数的名称和形状"
   ]
  },
  {
   "cell_type": "code",
   "execution_count": 11,
   "metadata": {},
   "outputs": [],
   "source": [
    "criterion = nn.CrossEntropyLoss()  # 定义损失函数为交叉熵损失\n",
    "optimizer = optim.Adam(model.parameters(), lr=0.001)  # 定义优化器为Adam，学习率为0.001"
   ]
  },
  {
   "cell_type": "code",
   "execution_count": 12,
   "metadata": {},
   "outputs": [
    {
     "name": "stdout",
     "output_type": "stream",
     "text": [
      "torch.Size([64, 784]) torch.Size([64])\n",
      "torch.Size([64, 784]) torch.Size([64])\n",
      "torch.Size([64, 784]) torch.Size([64])\n",
      "torch.Size([64, 784]) torch.Size([64])\n",
      "torch.Size([64, 784]) torch.Size([64])\n"
     ]
    }
   ],
   "source": [
    "epochs = 5  # 训练轮数\n",
    "for epoch in range(epochs):\n",
    "    model.train()\n",
    "    for data in train_loader:\n",
    "        X_train, y_train = data\n",
    "        X_train = X_train.view(X_train.size(0), -1)\n",
    "        print(X_train.shape, y_train.shape)  # 打印训练数据和标签的形状\n",
    "        \n",
    "        outputs = model(X_train)  # 前向传播\n",
    "        loss = loss_fn(outputs, y_train)  # 计算损失\n",
    "        optimizer.zero_grad()  # 梯度清零\n",
    "\n",
    "        \n",
    "        break"
   ]
  },
  {
   "cell_type": "code",
   "execution_count": 13,
   "metadata": {},
   "outputs": [
    {
     "name": "stdout",
     "output_type": "stream",
     "text": [
      "Epoch [1/5], Loss: 0.4490, Accuracy: 93.50%\n",
      "Epoch [2/5], Loss: 0.2159, Accuracy: 95.26%\n",
      "Epoch [3/5], Loss: 0.1618, Accuracy: 96.09%\n",
      "Epoch [4/5], Loss: 0.1364, Accuracy: 96.44%\n",
      "Epoch [5/5], Loss: 0.1180, Accuracy: 96.48%\n"
     ]
    }
   ],
   "source": [
    "device = torch.device('cuda' if torch.cuda.is_available() else 'cpu')\n",
    "model = model.to(device)\n",
    "\n",
    "epochs = 5  # 训练轮数\n",
    "lr = 0.001  # 学习率\n",
    "batch_size = 64  # 批大小\n",
    "for epoch in range(epochs):\n",
    "    model.train()\n",
    "    running_loss = 0.0\n",
    "    for data in train_loader:\n",
    "        X_train, y_train = data\n",
    "        X_train = X_train.view(X_train.size(0), -1).to(device)\n",
    "        y_train = y_train.to(device)\n",
    "        \n",
    "        outputs = model(X_train)\n",
    "        loss = criterion(outputs, y_train)\n",
    "        loss.backward()\n",
    "        optimizer.step()\n",
    "        optimizer.zero_grad()\n",
    "        running_loss += loss.item()\n",
    "    \n",
    "    model.eval()\n",
    "    correct = 0\n",
    "    total = 0\n",
    "    with torch.no_grad():\n",
    "        for data in test_loader:\n",
    "            X_test, y_test = data\n",
    "            X_test = X_test.view(X_test.size(0), -1).to(device)\n",
    "            y_test = y_test.to(device)\n",
    "            \n",
    "            outputs = model(X_test)\n",
    "            _, predicted = torch.max(outputs.data, 1)\n",
    "            total += y_test.size(0)\n",
    "            correct += (predicted == y_test).sum().item()\n",
    "    \n",
    "    print(f'Epoch [{epoch+1}/{epochs}], Loss: {running_loss/len(train_loader):.4f}, Accuracy: {100 * correct / total:.2f}%')"
   ]
  },
  {
   "cell_type": "code",
   "execution_count": 14,
   "metadata": {},
   "outputs": [
    {
     "name": "stdout",
     "output_type": "stream",
     "text": [
      "cuda:0\n",
      "cuda:0\n"
     ]
    }
   ],
   "source": [
    "# 检查模型是否在 GPU 上\n",
    "print(next(model.parameters()).device)\n",
    "\n",
    "# 检查数据是否在 GPU 上\n",
    "print(X_train.device)"
   ]
  },
  {
   "cell_type": "code",
   "execution_count": 15,
   "metadata": {},
   "outputs": [],
   "source": [
    "# Ensure the directory exists\n",
    "os.makedirs('models', exist_ok=True)\n",
    "\n",
    "# Save the model\n",
    "torch.save(model, 'models/Mnist_NN.pth')"
   ]
  },
  {
   "cell_type": "code",
   "execution_count": 16,
   "metadata": {},
   "outputs": [
    {
     "name": "stdout",
     "output_type": "stream",
     "text": [
      "Predicted:  7\n"
     ]
    },
    {
     "data": {
      "image/png": "[encoded data removed]",
      "text/plain": [
       "<Figure size 640x480 with 1 Axes>"
      ]
     },
     "metadata": {},
     "output_type": "display_data"
    }
   ],
   "source": [
    "# Allowlist the custom class Mnist_NN\n",
    "torch.serialization.add_safe_globals([Mnist_NN])\n",
    "\n",
    "# Load the model\n",
    "model = torch.load('models/Mnist_NN.pth', weights_only=False)\n",
    "\n",
    "model.eval()  # 切换到评估模式\n",
    "# 加载测试集数据\n",
    "test_data = datasets.MNIST(root='data', train=False, download=True, transform=transforms.ToTensor())\n",
    "test_loader = DataLoader(test_data, batch_size=1, shuffle=False)  # 这里设置 batch_size 为 1，因为我们只需要对一张图片进行预测\n",
    "\n",
    "# 进行预测\n",
    "with torch.no_grad():  # 禁用梯度计算，因为我们不需要反向传播\n",
    "    for data in test_loader:  # 遍历测试集数据\n",
    "        images, labels = data  # 获取图片和标签\n",
    "        images = images.view(images.size(0), -1).to(device)  # 将图片展平并移动到与模型相同的设备\n",
    "        labels = labels.to(device)\n",
    "        \n",
    "        outputs = model(images)  # 进行前向传播，得到模型的输出\n",
    "        _, predicted = torch.max(outputs.data, 1)  # 找到输出中概率最大的类别\n",
    "        print('Predicted: ', predicted.item())  # 打印预测结果\n",
    "        \n",
    "        # 显示图片\n",
    "        img = images[0].cpu().numpy()  # 将图片从 GPU 移动到 CPU，并转换为 numpy 数组\n",
    "        img = img.reshape(28, 28)  # 将图片从 (784,) 转换为 (28, 28) 的形状\n",
    "        plt.imshow(img)  # 显示图片\n",
    "        plt.title(f'Label: {labels[0]},  Predicted: {predicted.item()}')\n",
    "        plt.axis('off')\n",
    "        plt.show()  # 显示图片\n",
    "        break  # 只显示一张图片，所以退出循环"
   ]
  },
  {
   "cell_type": "code",
   "execution_count": null,
   "metadata": {},
   "outputs": [],
   "source": []
  }
 ],
 "metadata": {
  "kernelspec": {
   "display_name": "Python 3",
   "language": "python",
   "name": "python3"
  },
  "language_info": {
   "codemirror_mode": {
    "name": "ipython",
    "version": 3
   },
   "file_extension": ".py",
   "mimetype": "text/x-python",
   "name": "python",
   "nbconvert_exporter": "python",
   "pygments_lexer": "ipython3",
   "version": "3.12.4"
  }
 },
 "nbformat": 4,
 "nbformat_minor": 2
}
